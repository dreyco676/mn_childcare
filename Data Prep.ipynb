{
 "cells": [
  {
   "cell_type": "markdown",
   "id": "6c2eb253",
   "metadata": {},
   "source": [
    "# Child Care Data Prep"
   ]
  },
  {
   "cell_type": "code",
   "execution_count": 1,
   "id": "72fbd8db",
   "metadata": {},
   "outputs": [],
   "source": [
    "import pandas as pd\n",
    "from geopy.geocoders import Nominatim\n",
    "from geopy.geocoders import GoogleV3\n",
    "from geopy.extra.rate_limiter import RateLimiter"
   ]
  },
  {
   "cell_type": "code",
   "execution_count": null,
   "id": "d513f5ad",
   "metadata": {},
   "outputs": [],
   "source": [
    "# read in original data\n",
    "cc_df = pd.read_csv('data/original/ChildcareCenters.csv')\n",
    "fc_df = pd.read_csv('data/original/FamilyChildCare.csv')"
   ]
  },
  {
   "cell_type": "code",
   "execution_count": null,
   "id": "65b8cb94",
   "metadata": {},
   "outputs": [],
   "source": [
    "# append datasets together\n",
    "df = pd.concat([cc_df, fc_df], ignore_index=True, axis=0)"
   ]
  },
  {
   "cell_type": "code",
   "execution_count": null,
   "id": "6590c45e",
   "metadata": {},
   "outputs": [],
   "source": [
    "# create flag for centers that care for under 5 (infant, toddler, pre-school)\n",
    "center_service = 'infants|toddlers|preschool'\n",
    "# filter out centers that don't care for under 5\n",
    "df = df[df['Type Of License'].str.contains(center_service, case=False, na=False)]"
   ]
  },
  {
   "cell_type": "code",
   "execution_count": null,
   "id": "1404eea6",
   "metadata": {},
   "outputs": [],
   "source": [
    "# filter out centers with non-active licenses\n",
    "df = df[df['License Status'].str.contains('Active')]"
   ]
  },
  {
   "cell_type": "code",
   "execution_count": null,
   "id": "62e141f4",
   "metadata": {},
   "outputs": [],
   "source": [
    "# save stage out\n",
    "df.to_csv('data/modified/All_MN_Childcare.csv')"
   ]
  },
  {
   "cell_type": "markdown",
   "id": "5635b29b",
   "metadata": {},
   "source": [
    "# Geocoding"
   ]
  },
  {
   "cell_type": "code",
   "execution_count": null,
   "id": "93299881",
   "metadata": {},
   "outputs": [],
   "source": [
    "# strip off anything longer than 5 for zipcode\n",
    "df['Zip'] = df['Zip'].astype(str).str.slice(0,5)"
   ]
  },
  {
   "cell_type": "code",
   "execution_count": null,
   "id": "823fa479",
   "metadata": {},
   "outputs": [],
   "source": [
    "df['Zip'].head()"
   ]
  },
  {
   "cell_type": "code",
   "execution_count": null,
   "id": "e54e24ab",
   "metadata": {},
   "outputs": [],
   "source": [
    "# concatenate address into a single string to pass to geocoder\n",
    "df[\"full_address\"] = df['AddressLine1'] + ' ' + df['City'] + ' ' + df['State'] + ' ' + df['Zip']"
   ]
  },
  {
   "cell_type": "code",
   "execution_count": null,
   "id": "b908e341",
   "metadata": {},
   "outputs": [],
   "source": [
    "# geocode\n",
    "key = 'https://youtu.be/RfiQYRn7fBg?t=17'\n",
    "locator = GoogleV3(api_key=key)\n",
    "\n",
    "# delay between geocoding calls\n",
    "geocode = RateLimiter(locator.geocode, min_delay_seconds=2)\n",
    "\n",
    "# create location column\n",
    "df['location'] = df['full_address'].apply(geocode)\n",
    "\n",
    "# create longitude, laatitude from location\n",
    "df['latitude'] = [g.latitude for g in df['location']]\n",
    "df['longitude'] = [g.longitude for g in df['location']]"
   ]
  },
  {
   "cell_type": "code",
   "execution_count": null,
   "id": "0c4ffeb5",
   "metadata": {},
   "outputs": [],
   "source": [
    "# write stage out\n",
    "df.to_csv('data/modified/geocoded_childcare_centers.csv')"
   ]
  },
  {
   "cell_type": "markdown",
   "id": "bd39454a",
   "metadata": {},
   "source": [
    "# ACS data prep"
   ]
  },
  {
   "cell_type": "code",
   "execution_count": 89,
   "id": "f2efcf4e",
   "metadata": {},
   "outputs": [],
   "source": [
    "import geopandas as gpd\n",
    "\n",
    "shp_df = gpd.read_file('data/original/tl_2021_27_bg/tl_2021_27_bg.shp')\n",
    "shp_df['GEOG_UNIT'] = shp_df['GEOID']\n",
    "shp_df = shp_df.astype({'GEOG_UNIT':'int64'})\n",
    "shp_df = shp_df.set_index(['GEOG_UNIT']).sort_index()"
   ]
  },
  {
   "cell_type": "code",
   "execution_count": 90,
   "id": "609e5ac0",
   "metadata": {},
   "outputs": [
    {
     "name": "stderr",
     "output_type": "stream",
     "text": [
      "C:\\Users\\johnd_h4rxswp\\AppData\\Local\\Temp\\ipykernel_26308\\901880718.py:2: UserWarning: Geometry is in a geographic CRS. Results from 'centroid' are likely incorrect. Use 'GeoSeries.to_crs()' to re-project geometries to a projected CRS before this operation.\n",
      "\n",
      "  shp_df['coords'] = shp_df.centroid\n",
      "C:\\Users\\johnd_h4rxswp\\anaconda3\\lib\\site-packages\\pyproj\\crs\\crs.py:53: FutureWarning: '+init=<authority>:<code>' syntax is deprecated. '<authority>:<code>' is the preferred initialization method. When making the change, be mindful of axis order changes: https://pyproj4.github.io/pyproj/stable/gotchas.html#axis-order-changes-in-proj-6\n",
      "  return _prepare_from_string(\" \".join(pjargs))\n"
     ]
    },
    {
     "data": {
      "text/plain": [
       "GEOG_UNIT\n",
       "270017701001    POINT (-93.22335 46.87148)\n",
       "270017701002    POINT (-93.42317 46.66757)\n",
       "270017701003    POINT (-93.57031 46.58155)\n",
       "270017702001    POINT (-93.57059 46.89993)\n",
       "270017702002    POINT (-93.64448 46.69888)\n",
       "Name: coords, dtype: geometry"
      ]
     },
     "execution_count": 90,
     "metadata": {},
     "output_type": "execute_result"
    }
   ],
   "source": [
    "# get centroids\n",
    "shp_df['coords'] = shp_df.centroid\n",
    "\n",
    "# set datum\n",
    "shp_df = shp_df.to_crs({'init': 'epsg:4326'})\n",
    "\n",
    "shp_df['coords'].head()"
   ]
  },
  {
   "cell_type": "code",
   "execution_count": 91,
   "id": "b84403c3",
   "metadata": {},
   "outputs": [
    {
     "data": {
      "text/html": [
       "<div>\n",
       "<style scoped>\n",
       "    .dataframe tbody tr th:only-of-type {\n",
       "        vertical-align: middle;\n",
       "    }\n",
       "\n",
       "    .dataframe tbody tr th {\n",
       "        vertical-align: top;\n",
       "    }\n",
       "\n",
       "    .dataframe thead th {\n",
       "        text-align: right;\n",
       "    }\n",
       "</style>\n",
       "<table border=\"1\" class=\"dataframe\">\n",
       "  <thead>\n",
       "    <tr style=\"text-align: right;\">\n",
       "      <th></th>\n",
       "      <th>coords</th>\n",
       "    </tr>\n",
       "    <tr>\n",
       "      <th>GEOG_UNIT</th>\n",
       "      <th></th>\n",
       "    </tr>\n",
       "  </thead>\n",
       "  <tbody>\n",
       "    <tr>\n",
       "      <th>270017701001</th>\n",
       "      <td>(46.87147737561412, -93.22334829204809)</td>\n",
       "    </tr>\n",
       "    <tr>\n",
       "      <th>270017701002</th>\n",
       "      <td>(46.66757092803079, -93.42317348039266)</td>\n",
       "    </tr>\n",
       "    <tr>\n",
       "      <th>270017701003</th>\n",
       "      <td>(46.58155228465229, -93.57031020185724)</td>\n",
       "    </tr>\n",
       "    <tr>\n",
       "      <th>270017702001</th>\n",
       "      <td>(46.89992783908026, -93.5705932582413)</td>\n",
       "    </tr>\n",
       "    <tr>\n",
       "      <th>270017702002</th>\n",
       "      <td>(46.69888457200159, -93.64448243125192)</td>\n",
       "    </tr>\n",
       "  </tbody>\n",
       "</table>\n",
       "</div>"
      ],
      "text/plain": [
       "                                               coords\n",
       "GEOG_UNIT                                            \n",
       "270017701001  (46.87147737561412, -93.22334829204809)\n",
       "270017701002  (46.66757092803079, -93.42317348039266)\n",
       "270017701003  (46.58155228465229, -93.57031020185724)\n",
       "270017702001   (46.89992783908026, -93.5705932582413)\n",
       "270017702002  (46.69888457200159, -93.64448243125192)"
      ]
     },
     "execution_count": 91,
     "metadata": {},
     "output_type": "execute_result"
    }
   ],
   "source": [
    "# convert geopandas point to tuple\n",
    "shp_df['coords'] = shp_df['coords'].apply(lambda p: tuple([p.y, p.x]))\n",
    "shp_df = shp_df[['coords']]\n",
    "shp_df.head()"
   ]
  },
  {
   "cell_type": "code",
   "execution_count": 92,
   "id": "0d4f7ef6",
   "metadata": {},
   "outputs": [],
   "source": [
    "# read in ACS data and join to shp coords\n",
    "acs_df = pd.read_excel('data/modified/ACS.xlsx')\n",
    "\n",
    "acs_df = acs_df.astype({'GEOG_UNIT':'int64'})\n",
    "# set index\n",
    "acs_df = acs_df.set_index(['GEOG_UNIT']).sort_index()\n",
    "\n",
    "acs_df['weight'] = acs_df['POPUNDER5'] * -1"
   ]
  },
  {
   "cell_type": "code",
   "execution_count": 93,
   "id": "a3e842aa",
   "metadata": {},
   "outputs": [
    {
     "data": {
      "text/html": [
       "<div>\n",
       "<style scoped>\n",
       "    .dataframe tbody tr th:only-of-type {\n",
       "        vertical-align: middle;\n",
       "    }\n",
       "\n",
       "    .dataframe tbody tr th {\n",
       "        vertical-align: top;\n",
       "    }\n",
       "\n",
       "    .dataframe thead th {\n",
       "        text-align: right;\n",
       "    }\n",
       "</style>\n",
       "<table border=\"1\" class=\"dataframe\">\n",
       "  <thead>\n",
       "    <tr style=\"text-align: right;\">\n",
       "      <th></th>\n",
       "      <th>GEOG_LEVEL</th>\n",
       "      <th>GEOID</th>\n",
       "      <th>GEOID2</th>\n",
       "      <th>SUMLEV</th>\n",
       "      <th>GEONAME</th>\n",
       "      <th>GEOCOMP</th>\n",
       "      <th>STATE</th>\n",
       "      <th>COUNTY</th>\n",
       "      <th>TRACT</th>\n",
       "      <th>BLKGRP</th>\n",
       "      <th>...</th>\n",
       "      <th>MEANHHINC</th>\n",
       "      <th>MEDIANHHI</th>\n",
       "      <th>POVERTYN</th>\n",
       "      <th>POVERTY150</th>\n",
       "      <th>POV150_185</th>\n",
       "      <th>POVDENOM</th>\n",
       "      <th>POV100RATE</th>\n",
       "      <th>POV150RATE</th>\n",
       "      <th>POV185RATE</th>\n",
       "      <th>weight</th>\n",
       "    </tr>\n",
       "    <tr>\n",
       "      <th>GEOG_UNIT</th>\n",
       "      <th></th>\n",
       "      <th></th>\n",
       "      <th></th>\n",
       "      <th></th>\n",
       "      <th></th>\n",
       "      <th></th>\n",
       "      <th></th>\n",
       "      <th></th>\n",
       "      <th></th>\n",
       "      <th></th>\n",
       "      <th></th>\n",
       "      <th></th>\n",
       "      <th></th>\n",
       "      <th></th>\n",
       "      <th></th>\n",
       "      <th></th>\n",
       "      <th></th>\n",
       "      <th></th>\n",
       "      <th></th>\n",
       "      <th></th>\n",
       "      <th></th>\n",
       "    </tr>\n",
       "  </thead>\n",
       "  <tbody>\n",
       "    <tr>\n",
       "      <th>270017701001</th>\n",
       "      <td>BG</td>\n",
       "      <td>15000US270017701001</td>\n",
       "      <td>270017701001</td>\n",
       "      <td>150</td>\n",
       "      <td>Block Group 1 Census Tract 7701 Aitkin County ...</td>\n",
       "      <td>0</td>\n",
       "      <td>27</td>\n",
       "      <td>1</td>\n",
       "      <td>770100</td>\n",
       "      <td>1</td>\n",
       "      <td>...</td>\n",
       "      <td>69259.0</td>\n",
       "      <td>51953.0</td>\n",
       "      <td>86</td>\n",
       "      <td>63</td>\n",
       "      <td>49</td>\n",
       "      <td>846</td>\n",
       "      <td>0.102</td>\n",
       "      <td>0.176</td>\n",
       "      <td>0.234</td>\n",
       "      <td>-24</td>\n",
       "    </tr>\n",
       "    <tr>\n",
       "      <th>270017701002</th>\n",
       "      <td>BG</td>\n",
       "      <td>15000US270017701002</td>\n",
       "      <td>270017701002</td>\n",
       "      <td>150</td>\n",
       "      <td>Block Group 2 Census Tract 7701 Aitkin County ...</td>\n",
       "      <td>0</td>\n",
       "      <td>27</td>\n",
       "      <td>1</td>\n",
       "      <td>770100</td>\n",
       "      <td>2</td>\n",
       "      <td>...</td>\n",
       "      <td>66753.0</td>\n",
       "      <td>53625.0</td>\n",
       "      <td>131</td>\n",
       "      <td>54</td>\n",
       "      <td>56</td>\n",
       "      <td>876</td>\n",
       "      <td>0.150</td>\n",
       "      <td>0.211</td>\n",
       "      <td>0.275</td>\n",
       "      <td>-23</td>\n",
       "    </tr>\n",
       "    <tr>\n",
       "      <th>270017701003</th>\n",
       "      <td>BG</td>\n",
       "      <td>15000US270017701003</td>\n",
       "      <td>270017701003</td>\n",
       "      <td>150</td>\n",
       "      <td>Block Group 3 Census Tract 7701 Aitkin County ...</td>\n",
       "      <td>0</td>\n",
       "      <td>27</td>\n",
       "      <td>1</td>\n",
       "      <td>770100</td>\n",
       "      <td>3</td>\n",
       "      <td>...</td>\n",
       "      <td>67548.0</td>\n",
       "      <td>58289.0</td>\n",
       "      <td>100</td>\n",
       "      <td>76</td>\n",
       "      <td>84</td>\n",
       "      <td>683</td>\n",
       "      <td>0.146</td>\n",
       "      <td>0.258</td>\n",
       "      <td>0.381</td>\n",
       "      <td>-24</td>\n",
       "    </tr>\n",
       "    <tr>\n",
       "      <th>270017702001</th>\n",
       "      <td>BG</td>\n",
       "      <td>15000US270017702001</td>\n",
       "      <td>270017702001</td>\n",
       "      <td>150</td>\n",
       "      <td>Block Group 1 Census Tract 7702 Aitkin County ...</td>\n",
       "      <td>0</td>\n",
       "      <td>27</td>\n",
       "      <td>1</td>\n",
       "      <td>770200</td>\n",
       "      <td>1</td>\n",
       "      <td>...</td>\n",
       "      <td>62422.0</td>\n",
       "      <td>54643.0</td>\n",
       "      <td>96</td>\n",
       "      <td>52</td>\n",
       "      <td>98</td>\n",
       "      <td>768</td>\n",
       "      <td>0.125</td>\n",
       "      <td>0.193</td>\n",
       "      <td>0.320</td>\n",
       "      <td>-17</td>\n",
       "    </tr>\n",
       "    <tr>\n",
       "      <th>270017702002</th>\n",
       "      <td>BG</td>\n",
       "      <td>15000US270017702002</td>\n",
       "      <td>270017702002</td>\n",
       "      <td>150</td>\n",
       "      <td>Block Group 2 Census Tract 7702 Aitkin County ...</td>\n",
       "      <td>0</td>\n",
       "      <td>27</td>\n",
       "      <td>1</td>\n",
       "      <td>770200</td>\n",
       "      <td>2</td>\n",
       "      <td>...</td>\n",
       "      <td>63432.0</td>\n",
       "      <td>56422.0</td>\n",
       "      <td>88</td>\n",
       "      <td>62</td>\n",
       "      <td>39</td>\n",
       "      <td>742</td>\n",
       "      <td>0.119</td>\n",
       "      <td>0.202</td>\n",
       "      <td>0.255</td>\n",
       "      <td>-19</td>\n",
       "    </tr>\n",
       "  </tbody>\n",
       "</table>\n",
       "<p>5 rows × 28 columns</p>\n",
       "</div>"
      ],
      "text/plain": [
       "             GEOG_LEVEL                GEOID        GEOID2  SUMLEV  \\\n",
       "GEOG_UNIT                                                            \n",
       "270017701001         BG  15000US270017701001  270017701001     150   \n",
       "270017701002         BG  15000US270017701002  270017701002     150   \n",
       "270017701003         BG  15000US270017701003  270017701003     150   \n",
       "270017702001         BG  15000US270017702001  270017702001     150   \n",
       "270017702002         BG  15000US270017702002  270017702002     150   \n",
       "\n",
       "                                                        GEONAME  GEOCOMP  \\\n",
       "GEOG_UNIT                                                                  \n",
       "270017701001  Block Group 1 Census Tract 7701 Aitkin County ...        0   \n",
       "270017701002  Block Group 2 Census Tract 7701 Aitkin County ...        0   \n",
       "270017701003  Block Group 3 Census Tract 7701 Aitkin County ...        0   \n",
       "270017702001  Block Group 1 Census Tract 7702 Aitkin County ...        0   \n",
       "270017702002  Block Group 2 Census Tract 7702 Aitkin County ...        0   \n",
       "\n",
       "              STATE  COUNTY   TRACT  BLKGRP  ...  MEANHHINC  MEDIANHHI  \\\n",
       "GEOG_UNIT                                    ...                         \n",
       "270017701001     27       1  770100       1  ...    69259.0    51953.0   \n",
       "270017701002     27       1  770100       2  ...    66753.0    53625.0   \n",
       "270017701003     27       1  770100       3  ...    67548.0    58289.0   \n",
       "270017702001     27       1  770200       1  ...    62422.0    54643.0   \n",
       "270017702002     27       1  770200       2  ...    63432.0    56422.0   \n",
       "\n",
       "              POVERTYN POVERTY150  POV150_185  POVDENOM  POV100RATE  \\\n",
       "GEOG_UNIT                                                             \n",
       "270017701001        86         63          49       846       0.102   \n",
       "270017701002       131         54          56       876       0.150   \n",
       "270017701003       100         76          84       683       0.146   \n",
       "270017702001        96         52          98       768       0.125   \n",
       "270017702002        88         62          39       742       0.119   \n",
       "\n",
       "              POV150RATE  POV185RATE  weight  \n",
       "GEOG_UNIT                                     \n",
       "270017701001       0.176       0.234     -24  \n",
       "270017701002       0.211       0.275     -23  \n",
       "270017701003       0.258       0.381     -24  \n",
       "270017702001       0.193       0.320     -17  \n",
       "270017702002       0.202       0.255     -19  \n",
       "\n",
       "[5 rows x 28 columns]"
      ]
     },
     "execution_count": 93,
     "metadata": {},
     "output_type": "execute_result"
    }
   ],
   "source": [
    "acs_df.head()"
   ]
  },
  {
   "cell_type": "code",
   "execution_count": 95,
   "id": "74d0edef",
   "metadata": {},
   "outputs": [
    {
     "data": {
      "text/plain": [
       "(4706, 29)"
      ]
     },
     "execution_count": 95,
     "metadata": {},
     "output_type": "execute_result"
    }
   ],
   "source": [
    "# join shp coords\n",
    "acs_merge_df = pd.merge(acs_df, shp_df, left_index=True, right_index=True)\n",
    "acs_merge_df.shape"
   ]
  },
  {
   "cell_type": "code",
   "execution_count": 96,
   "id": "d349257f",
   "metadata": {},
   "outputs": [
    {
     "data": {
      "text/plain": [
       "(4706, 2)"
      ]
     },
     "execution_count": 96,
     "metadata": {},
     "output_type": "execute_result"
    }
   ],
   "source": [
    "# remove all extra columns\n",
    "acs_merge_df = acs_merge_df[['coords', 'weight']]\n",
    "acs_merge_df.shape"
   ]
  },
  {
   "cell_type": "code",
   "execution_count": 97,
   "id": "28106692",
   "metadata": {},
   "outputs": [],
   "source": [
    "# read in child care data\n",
    "cc_df = pd.read_csv('data/modified/geocoded_childcare_centers.csv')\n",
    "# set index \n",
    "cc_df = cc_df.set_index(['License Number']).sort_index()"
   ]
  },
  {
   "cell_type": "code",
   "execution_count": 98,
   "id": "7fcb4e0e",
   "metadata": {},
   "outputs": [
    {
     "data": {
      "text/plain": [
       "License Number\n",
       "800003    (44.2917947, -93.3045992)\n",
       "800020      (44.8787181, -93.38103)\n",
       "800025    (45.1170803, -93.2164146)\n",
       "800056    (43.6435327, -93.3647928)\n",
       "800058    (44.0689429, -92.4763802)\n",
       "Name: coords, dtype: object"
      ]
     },
     "execution_count": 98,
     "metadata": {},
     "output_type": "execute_result"
    }
   ],
   "source": [
    "from shapely.geometry import Point\n",
    "\n",
    "cc_df['coords'] = tuple(zip(cc_df['latitude'], cc_df['longitude']))\n",
    "# remove the old columns\n",
    "drop_cols = ['latitude', 'longitude']\n",
    "cc_df = cc_df.drop(drop_cols, axis=1)\n",
    "\n",
    "cc_df['coords'].head()"
   ]
  },
  {
   "cell_type": "code",
   "execution_count": 99,
   "id": "dddeb1ca",
   "metadata": {},
   "outputs": [],
   "source": [
    "# rename columns and organize\n",
    "cc_df['weight'] = cc_df['Capacity']\n",
    "cc_df = cc_df[['coords', 'weight']]"
   ]
  },
  {
   "cell_type": "code",
   "execution_count": 100,
   "id": "e6a8f1ea",
   "metadata": {},
   "outputs": [],
   "source": [
    "# append datasets together\n",
    "final_df = pd.concat([cc_df, acs_merge_df], ignore_index=True, axis=0)\n",
    "# write final data set out\n",
    "final_df.to_csv('data/modified/data_to_map.csv')"
   ]
  },
  {
   "cell_type": "code",
   "execution_count": 101,
   "id": "8c3982f6",
   "metadata": {},
   "outputs": [
    {
     "data": {
      "text/html": [
       "<div>\n",
       "<style scoped>\n",
       "    .dataframe tbody tr th:only-of-type {\n",
       "        vertical-align: middle;\n",
       "    }\n",
       "\n",
       "    .dataframe tbody tr th {\n",
       "        vertical-align: top;\n",
       "    }\n",
       "\n",
       "    .dataframe thead th {\n",
       "        text-align: right;\n",
       "    }\n",
       "</style>\n",
       "<table border=\"1\" class=\"dataframe\">\n",
       "  <thead>\n",
       "    <tr style=\"text-align: right;\">\n",
       "      <th></th>\n",
       "      <th>coords</th>\n",
       "      <th>weight</th>\n",
       "    </tr>\n",
       "  </thead>\n",
       "  <tbody>\n",
       "    <tr>\n",
       "      <th>0</th>\n",
       "      <td>(44.2917947, -93.3045992)</td>\n",
       "      <td>94</td>\n",
       "    </tr>\n",
       "    <tr>\n",
       "      <th>1</th>\n",
       "      <td>(44.8787181, -93.38103)</td>\n",
       "      <td>91</td>\n",
       "    </tr>\n",
       "    <tr>\n",
       "      <th>2</th>\n",
       "      <td>(45.1170803, -93.2164146)</td>\n",
       "      <td>35</td>\n",
       "    </tr>\n",
       "    <tr>\n",
       "      <th>3</th>\n",
       "      <td>(43.6435327, -93.3647928)</td>\n",
       "      <td>157</td>\n",
       "    </tr>\n",
       "    <tr>\n",
       "      <th>4</th>\n",
       "      <td>(44.0689429, -92.4763802)</td>\n",
       "      <td>168</td>\n",
       "    </tr>\n",
       "  </tbody>\n",
       "</table>\n",
       "</div>"
      ],
      "text/plain": [
       "                      coords  weight\n",
       "0  (44.2917947, -93.3045992)      94\n",
       "1    (44.8787181, -93.38103)      91\n",
       "2  (45.1170803, -93.2164146)      35\n",
       "3  (43.6435327, -93.3647928)     157\n",
       "4  (44.0689429, -92.4763802)     168"
      ]
     },
     "execution_count": 101,
     "metadata": {},
     "output_type": "execute_result"
    }
   ],
   "source": [
    "final_df.head()"
   ]
  }
 ],
 "metadata": {
  "kernelspec": {
   "display_name": "Python 3 (ipykernel)",
   "language": "python",
   "name": "python3"
  },
  "language_info": {
   "codemirror_mode": {
    "name": "ipython",
    "version": 3
   },
   "file_extension": ".py",
   "mimetype": "text/x-python",
   "name": "python",
   "nbconvert_exporter": "python",
   "pygments_lexer": "ipython3",
   "version": "3.8.16"
  }
 },
 "nbformat": 4,
 "nbformat_minor": 5
}
