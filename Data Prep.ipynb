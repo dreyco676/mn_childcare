{
 "cells": [
  {
   "cell_type": "markdown",
   "id": "6c2eb253",
   "metadata": {},
   "source": [
    "# Child Care Data Prep"
   ]
  },
  {
   "cell_type": "code",
   "execution_count": 1,
   "id": "72fbd8db",
   "metadata": {},
   "outputs": [],
   "source": [
    "import pandas as pd\n",
    "from geopy.geocoders import Nominatim\n",
    "from geopy.geocoders import GoogleV3\n",
    "from geopy.extra.rate_limiter import RateLimiter"
   ]
  },
  {
   "cell_type": "code",
   "execution_count": null,
   "id": "d513f5ad",
   "metadata": {},
   "outputs": [],
   "source": [
    "# read in original data\n",
    "cc_df = pd.read_csv('data/original/ChildcareCenters.csv')\n",
    "fc_df = pd.read_csv('data/original/FamilyChildCare.csv')"
   ]
  },
  {
   "cell_type": "code",
   "execution_count": null,
   "id": "65b8cb94",
   "metadata": {},
   "outputs": [],
   "source": [
    "# append datasets together\n",
    "df = pd.concat([cc_df, fc_df], ignore_index=True, axis=0)"
   ]
  },
  {
   "cell_type": "code",
   "execution_count": null,
   "id": "6590c45e",
   "metadata": {},
   "outputs": [],
   "source": [
    "# create flag for centers that care for under 5 (infant, toddler, pre-school)\n",
    "center_service = 'infants|toddlers|preschool'\n",
    "# filter out centers that don't care for under 5\n",
    "df = df[df['Type Of License'].str.contains(center_service, case=False, na=False)]"
   ]
  },
  {
   "cell_type": "code",
   "execution_count": null,
   "id": "1404eea6",
   "metadata": {},
   "outputs": [],
   "source": [
    "# filter out centers with non-active licenses\n",
    "df = df[df['License Status'].str.contains('Active')]"
   ]
  },
  {
   "cell_type": "code",
   "execution_count": null,
   "id": "62e141f4",
   "metadata": {},
   "outputs": [],
   "source": [
    "# save stage out\n",
    "df.to_csv('data/modified/All_MN_Childcare.csv')"
   ]
  },
  {
   "cell_type": "markdown",
   "id": "5635b29b",
   "metadata": {},
   "source": [
    "# Geocoding"
   ]
  },
  {
   "cell_type": "code",
   "execution_count": null,
   "id": "93299881",
   "metadata": {},
   "outputs": [],
   "source": [
    "# strip off anything longer than 5 for zipcode\n",
    "df['Zip'] = df['Zip'].astype(str).str.slice(0,5)"
   ]
  },
  {
   "cell_type": "code",
   "execution_count": null,
   "id": "823fa479",
   "metadata": {},
   "outputs": [],
   "source": [
    "df['Zip'].head()"
   ]
  },
  {
   "cell_type": "code",
   "execution_count": null,
   "id": "e54e24ab",
   "metadata": {},
   "outputs": [],
   "source": [
    "# concatenate address into a single string to pass to geocoder\n",
    "df[\"full_address\"] = df['AddressLine1'] + ' ' + df['City'] + ' ' + df['State'] + ' ' + df['Zip']"
   ]
  },
  {
   "cell_type": "code",
   "execution_count": null,
   "id": "b908e341",
   "metadata": {},
   "outputs": [],
   "source": [
    "# geocode\n",
    "key = 'https://youtu.be/RfiQYRn7fBg?t=17'\n",
    "locator = GoogleV3(api_key=key)\n",
    "\n",
    "# delay between geocoding calls\n",
    "geocode = RateLimiter(locator.geocode, min_delay_seconds=2)\n",
    "\n",
    "# create location column\n",
    "df['location'] = df['full_address'].apply(geocode)\n",
    "\n",
    "# create longitude, laatitude from location\n",
    "df['latitude'] = [g.latitude for g in df['location']]\n",
    "df['longitude'] = [g.longitude for g in df['location']]"
   ]
  },
  {
   "cell_type": "code",
   "execution_count": null,
   "id": "0c4ffeb5",
   "metadata": {},
   "outputs": [],
   "source": [
    "# write stage out\n",
    "df.to_csv('data/modified/geocoded_childcare_centers.csv')"
   ]
  },
  {
   "cell_type": "markdown",
   "id": "bd39454a",
   "metadata": {},
   "source": [
    "# ACS data prep"
   ]
  },
  {
   "cell_type": "code",
   "execution_count": 1,
   "id": "f2efcf4e",
   "metadata": {},
   "outputs": [
    {
     "data": {
      "text/plain": [
       "<Geographic 2D CRS: EPSG:4269>\n",
       "Name: NAD83\n",
       "Axis Info [ellipsoidal]:\n",
       "- Lat[north]: Geodetic latitude (degree)\n",
       "- Lon[east]: Geodetic longitude (degree)\n",
       "Area of Use:\n",
       "- name: North America - onshore and offshore: Canada - Alberta; British Columbia; Manitoba; New Brunswick; Newfoundland and Labrador; Northwest Territories; Nova Scotia; Nunavut; Ontario; Prince Edward Island; Quebec; Saskatchewan; Yukon. Puerto Rico. United States (USA) - Alabama; Alaska; Arizona; Arkansas; California; Colorado; Connecticut; Delaware; Florida; Georgia; Hawaii; Idaho; Illinois; Indiana; Iowa; Kansas; Kentucky; Louisiana; Maine; Maryland; Massachusetts; Michigan; Minnesota; Mississippi; Missouri; Montana; Nebraska; Nevada; New Hampshire; New Jersey; New Mexico; New York; North Carolina; North Dakota; Ohio; Oklahoma; Oregon; Pennsylvania; Rhode Island; South Carolina; South Dakota; Tennessee; Texas; Utah; Vermont; Virginia; Washington; West Virginia; Wisconsin; Wyoming. US Virgin Islands. British Virgin Islands.\n",
       "- bounds: (167.65, 14.92, -40.73, 86.45)\n",
       "Datum: North American Datum 1983\n",
       "- Ellipsoid: GRS 1980\n",
       "- Prime Meridian: Greenwich"
      ]
     },
     "execution_count": 1,
     "metadata": {},
     "output_type": "execute_result"
    }
   ],
   "source": [
    "import geopandas as gpd\n",
    "\n",
    "shp_df = gpd.read_file('data/original/tl_2021_27_bg/tl_2021_27_bg.shp')\n",
    "shp_df['GEOG_UNIT'] = shp_df['GEOID']\n",
    "shp_df = shp_df.astype({'GEOG_UNIT':'int64'})\n",
    "shp_df = shp_df.set_index(['GEOG_UNIT']).sort_index()\n",
    "shp_df.crs"
   ]
  },
  {
   "cell_type": "code",
   "execution_count": 2,
   "id": "1553a75d",
   "metadata": {},
   "outputs": [],
   "source": [
    "# set datum\n",
    "shp_df = shp_df.to_crs('EPSG:4326')"
   ]
  },
  {
   "cell_type": "code",
   "execution_count": 3,
   "id": "b3ba1bb6",
   "metadata": {},
   "outputs": [
    {
     "data": {
      "text/plain": [
       "<Geographic 2D CRS: EPSG:4326>\n",
       "Name: WGS 84\n",
       "Axis Info [ellipsoidal]:\n",
       "- Lat[north]: Geodetic latitude (degree)\n",
       "- Lon[east]: Geodetic longitude (degree)\n",
       "Area of Use:\n",
       "- name: World.\n",
       "- bounds: (-180.0, -90.0, 180.0, 90.0)\n",
       "Datum: World Geodetic System 1984 ensemble\n",
       "- Ellipsoid: WGS 84\n",
       "- Prime Meridian: Greenwich"
      ]
     },
     "execution_count": 3,
     "metadata": {},
     "output_type": "execute_result"
    }
   ],
   "source": [
    "shp_df.crs"
   ]
  },
  {
   "cell_type": "code",
   "execution_count": 4,
   "id": "609e5ac0",
   "metadata": {},
   "outputs": [
    {
     "name": "stderr",
     "output_type": "stream",
     "text": [
      "C:\\Users\\johnd_h4rxswp\\AppData\\Local\\Temp\\ipykernel_13588\\1989596961.py:2: UserWarning: Geometry is in a geographic CRS. Results from 'centroid' are likely incorrect. Use 'GeoSeries.to_crs()' to re-project geometries to a projected CRS before this operation.\n",
      "\n",
      "  shp_df['coords'] = shp_df.centroid\n"
     ]
    },
    {
     "data": {
      "text/plain": [
       "GEOG_UNIT\n",
       "270017701001    POINT (-93.22335 46.87148)\n",
       "270017701002    POINT (-93.42318 46.66757)\n",
       "270017701003    POINT (-93.57031 46.58155)\n",
       "270017702001    POINT (-93.57060 46.89993)\n",
       "270017702002    POINT (-93.64449 46.69889)\n",
       "Name: coords, dtype: geometry"
      ]
     },
     "execution_count": 4,
     "metadata": {},
     "output_type": "execute_result"
    }
   ],
   "source": [
    "# get centroids\n",
    "shp_df['coords'] = shp_df.centroid\n",
    "\n",
    "shp_df['coords'].head()"
   ]
  },
  {
   "cell_type": "code",
   "execution_count": 5,
   "id": "b84403c3",
   "metadata": {},
   "outputs": [
    {
     "data": {
      "text/html": [
       "<div>\n",
       "<style scoped>\n",
       "    .dataframe tbody tr th:only-of-type {\n",
       "        vertical-align: middle;\n",
       "    }\n",
       "\n",
       "    .dataframe tbody tr th {\n",
       "        vertical-align: top;\n",
       "    }\n",
       "\n",
       "    .dataframe thead th {\n",
       "        text-align: right;\n",
       "    }\n",
       "</style>\n",
       "<table border=\"1\" class=\"dataframe\">\n",
       "  <thead>\n",
       "    <tr style=\"text-align: right;\">\n",
       "      <th></th>\n",
       "      <th>coords</th>\n",
       "    </tr>\n",
       "    <tr>\n",
       "      <th>GEOG_UNIT</th>\n",
       "      <th></th>\n",
       "    </tr>\n",
       "  </thead>\n",
       "  <tbody>\n",
       "    <tr>\n",
       "      <th>270017701001</th>\n",
       "      <td>(46.87147950696038, -93.22335054334215)</td>\n",
       "    </tr>\n",
       "    <tr>\n",
       "      <th>270017701002</th>\n",
       "      <td>(46.667572843779034, -93.42317606004025)</td>\n",
       "    </tr>\n",
       "    <tr>\n",
       "      <th>270017701003</th>\n",
       "      <td>(46.5815538920114, -93.57031258714842)</td>\n",
       "    </tr>\n",
       "    <tr>\n",
       "      <th>270017702001</th>\n",
       "      <td>(46.89992976026988, -93.57059554010407)</td>\n",
       "    </tr>\n",
       "    <tr>\n",
       "      <th>270017702002</th>\n",
       "      <td>(46.69888633010108, -93.6444851979997)</td>\n",
       "    </tr>\n",
       "  </tbody>\n",
       "</table>\n",
       "</div>"
      ],
      "text/plain": [
       "                                                coords\n",
       "GEOG_UNIT                                             \n",
       "270017701001   (46.87147950696038, -93.22335054334215)\n",
       "270017701002  (46.667572843779034, -93.42317606004025)\n",
       "270017701003    (46.5815538920114, -93.57031258714842)\n",
       "270017702001   (46.89992976026988, -93.57059554010407)\n",
       "270017702002    (46.69888633010108, -93.6444851979997)"
      ]
     },
     "execution_count": 5,
     "metadata": {},
     "output_type": "execute_result"
    }
   ],
   "source": [
    "# convert geopandas point to tuple\n",
    "shp_df['coords'] = shp_df['coords'].apply(lambda p: tuple([p.y, p.x]))\n",
    "shp_df = shp_df[['coords']]\n",
    "shp_df.head()"
   ]
  },
  {
   "cell_type": "code",
   "execution_count": 6,
   "id": "0d4f7ef6",
   "metadata": {},
   "outputs": [],
   "source": [
    "import pandas as pd \n",
    "\n",
    "# read in ACS data and join to shp coords\n",
    "acs_df = pd.read_excel('data/modified/ACS.xlsx')\n",
    "\n",
    "acs_df = acs_df.astype({'GEOG_UNIT':'int64'})\n",
    "# set index\n",
    "acs_df = acs_df.set_index(['GEOG_UNIT']).sort_index()\n",
    "\n",
    "acs_df['weight'] = acs_df['POPUNDER5'] * -1\n",
    "acs_df['point_type'] = 'Census_Blocks'"
   ]
  },
  {
   "cell_type": "code",
   "execution_count": 7,
   "id": "74d0edef",
   "metadata": {},
   "outputs": [
    {
     "data": {
      "text/plain": [
       "(4706, 30)"
      ]
     },
     "execution_count": 7,
     "metadata": {},
     "output_type": "execute_result"
    }
   ],
   "source": [
    "# join shp coords\n",
    "acs_merge_df = pd.merge(acs_df, shp_df, left_index=True, right_index=True)\n",
    "acs_merge_df.shape"
   ]
  },
  {
   "cell_type": "code",
   "execution_count": 8,
   "id": "d349257f",
   "metadata": {},
   "outputs": [
    {
     "data": {
      "text/plain": [
       "(4706, 3)"
      ]
     },
     "execution_count": 8,
     "metadata": {},
     "output_type": "execute_result"
    }
   ],
   "source": [
    "# remove all extra columns\n",
    "acs_merge_df = acs_merge_df[['coords', 'weight', 'point_type']]\n",
    "acs_merge_df.shape"
   ]
  },
  {
   "cell_type": "code",
   "execution_count": 9,
   "id": "28106692",
   "metadata": {},
   "outputs": [],
   "source": [
    "# read in child care data\n",
    "cc_df = pd.read_csv('data/modified/geocoded_childcare_centers.csv')\n",
    "# set index \n",
    "cc_df = cc_df.set_index(['License Number']).sort_index()\n",
    "cc_df['point_type'] = 'Child Care'"
   ]
  },
  {
   "cell_type": "code",
   "execution_count": 10,
   "id": "7fcb4e0e",
   "metadata": {},
   "outputs": [
    {
     "data": {
      "text/plain": [
       "License Number\n",
       "800003    (44.2917947, -93.3045992)\n",
       "800020      (44.8787181, -93.38103)\n",
       "800025    (45.1170803, -93.2164146)\n",
       "800056    (43.6435327, -93.3647928)\n",
       "800058    (44.0689429, -92.4763802)\n",
       "Name: coords, dtype: object"
      ]
     },
     "execution_count": 10,
     "metadata": {},
     "output_type": "execute_result"
    }
   ],
   "source": [
    "from shapely.geometry import Point\n",
    "\n",
    "cc_df['coords'] = tuple(zip(cc_df['latitude'], cc_df['longitude']))\n",
    "# remove the old columns\n",
    "drop_cols = ['latitude', 'longitude']\n",
    "cc_df = cc_df.drop(drop_cols, axis=1)\n",
    "\n",
    "cc_df['coords'].head()"
   ]
  },
  {
   "cell_type": "code",
   "execution_count": 11,
   "id": "dddeb1ca",
   "metadata": {},
   "outputs": [],
   "source": [
    "# rename columns and organize\n",
    "cc_df['weight'] = cc_df['Capacity']\n",
    "cc_df = cc_df[['coords', 'weight', 'point_type']]"
   ]
  },
  {
   "cell_type": "code",
   "execution_count": 12,
   "id": "e6a8f1ea",
   "metadata": {},
   "outputs": [],
   "source": [
    "# append datasets together\n",
    "final_df = pd.concat([cc_df, acs_merge_df], ignore_index=True, axis=0)\n",
    "# write final data set out\n",
    "final_df.to_csv('data/modified/data_to_map.csv')"
   ]
  },
  {
   "cell_type": "code",
   "execution_count": 13,
   "id": "8c3982f6",
   "metadata": {},
   "outputs": [
    {
     "data": {
      "text/html": [
       "<div>\n",
       "<style scoped>\n",
       "    .dataframe tbody tr th:only-of-type {\n",
       "        vertical-align: middle;\n",
       "    }\n",
       "\n",
       "    .dataframe tbody tr th {\n",
       "        vertical-align: top;\n",
       "    }\n",
       "\n",
       "    .dataframe thead th {\n",
       "        text-align: right;\n",
       "    }\n",
       "</style>\n",
       "<table border=\"1\" class=\"dataframe\">\n",
       "  <thead>\n",
       "    <tr style=\"text-align: right;\">\n",
       "      <th></th>\n",
       "      <th>coords</th>\n",
       "      <th>weight</th>\n",
       "      <th>point_type</th>\n",
       "    </tr>\n",
       "  </thead>\n",
       "  <tbody>\n",
       "    <tr>\n",
       "      <th>0</th>\n",
       "      <td>(44.2917947, -93.3045992)</td>\n",
       "      <td>94</td>\n",
       "      <td>Child Care</td>\n",
       "    </tr>\n",
       "    <tr>\n",
       "      <th>1</th>\n",
       "      <td>(44.8787181, -93.38103)</td>\n",
       "      <td>91</td>\n",
       "      <td>Child Care</td>\n",
       "    </tr>\n",
       "    <tr>\n",
       "      <th>2</th>\n",
       "      <td>(45.1170803, -93.2164146)</td>\n",
       "      <td>35</td>\n",
       "      <td>Child Care</td>\n",
       "    </tr>\n",
       "    <tr>\n",
       "      <th>3</th>\n",
       "      <td>(43.6435327, -93.3647928)</td>\n",
       "      <td>157</td>\n",
       "      <td>Child Care</td>\n",
       "    </tr>\n",
       "    <tr>\n",
       "      <th>4</th>\n",
       "      <td>(44.0689429, -92.4763802)</td>\n",
       "      <td>168</td>\n",
       "      <td>Child Care</td>\n",
       "    </tr>\n",
       "  </tbody>\n",
       "</table>\n",
       "</div>"
      ],
      "text/plain": [
       "                      coords  weight  point_type\n",
       "0  (44.2917947, -93.3045992)      94  Child Care\n",
       "1    (44.8787181, -93.38103)      91  Child Care\n",
       "2  (45.1170803, -93.2164146)      35  Child Care\n",
       "3  (43.6435327, -93.3647928)     157  Child Care\n",
       "4  (44.0689429, -92.4763802)     168  Child Care"
      ]
     },
     "execution_count": 13,
     "metadata": {},
     "output_type": "execute_result"
    }
   ],
   "source": [
    "final_df.head()"
   ]
  },
  {
   "cell_type": "code",
   "execution_count": null,
   "id": "23e33fa3",
   "metadata": {},
   "outputs": [],
   "source": []
  },
  {
   "cell_type": "code",
   "execution_count": null,
   "id": "a69087fd",
   "metadata": {},
   "outputs": [],
   "source": []
  }
 ],
 "metadata": {
  "kernelspec": {
   "display_name": "Python [conda env:geo_env]",
   "language": "python",
   "name": "conda-env-geo_env-py"
  },
  "language_info": {
   "codemirror_mode": {
    "name": "ipython",
    "version": 3
   },
   "file_extension": ".py",
   "mimetype": "text/x-python",
   "name": "python",
   "nbconvert_exporter": "python",
   "pygments_lexer": "ipython3",
   "version": "3.11.3"
  }
 },
 "nbformat": 4,
 "nbformat_minor": 5
}
