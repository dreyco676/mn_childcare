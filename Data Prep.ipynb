{
 "cells": [
  {
   "cell_type": "markdown",
   "id": "6c2eb253",
   "metadata": {},
   "source": [
    "# Child Care Data Prep"
   ]
  },
  {
   "cell_type": "code",
   "execution_count": null,
   "id": "72fbd8db",
   "metadata": {},
   "outputs": [],
   "source": [
    "import pandas as pd\n",
    "from geopy.geocoders import Nominatim\n",
    "from geopy.geocoders import GoogleV3\n",
    "from geopy.extra.rate_limiter import RateLimiter"
   ]
  },
  {
   "cell_type": "code",
   "execution_count": null,
   "id": "d513f5ad",
   "metadata": {},
   "outputs": [],
   "source": [
    "# read in original data\n",
    "cc_df = pd.read_csv('data/original/ChildcareCenters.csv')\n",
    "fc_df = pd.read_csv('data/original/FamilyChildCare.csv')"
   ]
  },
  {
   "cell_type": "code",
   "execution_count": null,
   "id": "65b8cb94",
   "metadata": {},
   "outputs": [],
   "source": [
    "# append datasets together\n",
    "df = pd.concat([cc_df, fc_df], ignore_index=True, axis=0)"
   ]
  },
  {
   "cell_type": "code",
   "execution_count": null,
   "id": "6590c45e",
   "metadata": {},
   "outputs": [],
   "source": [
    "# create flag for centers that care for under 5 (infant, toddler, pre-school)\n",
    "center_service = 'infants|toddlers|preschool'\n",
    "# filter out centers that don't care for under 5\n",
    "df = df[df['Type Of License'].str.contains(center_service, case=False, na=False)]"
   ]
  },
  {
   "cell_type": "code",
   "execution_count": null,
   "id": "1404eea6",
   "metadata": {},
   "outputs": [],
   "source": [
    "# filter out centers with non-active licenses\n",
    "df = df[df['License Status'].str.contains('Active')]"
   ]
  },
  {
   "cell_type": "code",
   "execution_count": null,
   "id": "62e141f4",
   "metadata": {},
   "outputs": [],
   "source": [
    "# save stage out\n",
    "df.to_csv('data/modified/All_MN_Childcare.csv')"
   ]
  },
  {
   "cell_type": "markdown",
   "id": "5635b29b",
   "metadata": {},
   "source": [
    "# Geocoding"
   ]
  },
  {
   "cell_type": "code",
   "execution_count": null,
   "id": "93299881",
   "metadata": {},
   "outputs": [],
   "source": [
    "# strip off anything longer than 5 for zipcode\n",
    "df['Zip'] = df['Zip'].astype(str).str.slice(0,5)"
   ]
  },
  {
   "cell_type": "code",
   "execution_count": null,
   "id": "823fa479",
   "metadata": {},
   "outputs": [],
   "source": [
    "df['Zip'].head()"
   ]
  },
  {
   "cell_type": "code",
   "execution_count": null,
   "id": "e54e24ab",
   "metadata": {},
   "outputs": [],
   "source": [
    "# concatenate address into a single string to pass to geocoder\n",
    "df[\"full_address\"] = df['AddressLine1'] + ' ' + df['City'] + ' ' + df['State'] + ' ' + df['Zip']"
   ]
  },
  {
   "cell_type": "code",
   "execution_count": null,
   "id": "b908e341",
   "metadata": {},
   "outputs": [],
   "source": [
    "# geocode\n",
    "key = 'https://youtu.be/RfiQYRn7fBg?t=17'\n",
    "locator = GoogleV3(api_key=key)\n",
    "\n",
    "# delay between geocoding calls\n",
    "geocode = RateLimiter(locator.geocode, min_delay_seconds=2)\n",
    "\n",
    "# create location column\n",
    "df['location'] = df['full_address'].apply(geocode)\n",
    "\n",
    "# create longitude, laatitude from location\n",
    "df['latitude'] = [g.latitude for g in df['location']]\n",
    "df['longitude'] = [g.longitude for g in df['location']]"
   ]
  },
  {
   "cell_type": "code",
   "execution_count": null,
   "id": "0c4ffeb5",
   "metadata": {},
   "outputs": [],
   "source": [
    "# write stage out\n",
    "df.to_csv('data/modified/geocoded_childcare_centers.csv')"
   ]
  },
  {
   "cell_type": "markdown",
   "id": "f9bf4d65",
   "metadata": {},
   "source": [
    "# Final data prep"
   ]
  },
  {
   "cell_type": "code",
   "execution_count": null,
   "id": "9e20af3e",
   "metadata": {},
   "outputs": [],
   "source": [
    "# create 'negative weights' of child care centers for use on weighted KDE\n",
    "df['weight'] = df['Capacity'] * (-1)"
   ]
  },
  {
   "cell_type": "code",
   "execution_count": null,
   "id": "ea109063",
   "metadata": {},
   "outputs": [],
   "source": [
    "# save out stage\n",
    "final_df = df[['weight', 'latitude', 'longitude']]\n",
    "df.to_csv('data/modified/cc_weights.csv')"
   ]
  },
  {
   "cell_type": "code",
   "execution_count": null,
   "id": "d714ce54",
   "metadata": {},
   "outputs": [],
   "source": []
  }
 ],
 "metadata": {
  "kernelspec": {
   "display_name": "Python 3 (ipykernel)",
   "language": "python",
   "name": "python3"
  },
  "language_info": {
   "codemirror_mode": {
    "name": "ipython",
    "version": 3
   },
   "file_extension": ".py",
   "mimetype": "text/x-python",
   "name": "python",
   "nbconvert_exporter": "python",
   "pygments_lexer": "ipython3",
   "version": "3.8.16"
  }
 },
 "nbformat": 4,
 "nbformat_minor": 5
}
