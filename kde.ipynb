{
 "cells": [
  {
   "cell_type": "code",
   "execution_count": 5,
   "id": "4d2b864e",
   "metadata": {},
   "outputs": [],
   "source": [
    "import pandas as pd\n",
    "import seaborn as sns"
   ]
  },
  {
   "cell_type": "code",
   "execution_count": 45,
   "id": "553b8645",
   "metadata": {},
   "outputs": [],
   "source": [
    "df = pd.read_csv('data/modified/data_to_map.csv')"
   ]
  },
  {
   "cell_type": "code",
   "execution_count": 46,
   "id": "f2e1d37e",
   "metadata": {},
   "outputs": [
    {
     "name": "stderr",
     "output_type": "stream",
     "text": [
      "C:\\Users\\johnd_h4rxswp\\AppData\\Local\\Temp\\ipykernel_2024\\344440211.py:2: FutureWarning: The default value of regex will change from True to False in a future version. In addition, single character regular expressions will *not* be treated as literal strings when regex=True.\n",
      "  df['coords'] = df['coords'].str.replace('(', '').str.replace(')', '')\n"
     ]
    }
   ],
   "source": [
    "# remove junk from coords\n",
    "df['coords'] = df['coords'].str.replace('(', '').str.replace(')', '')\n",
    "\n",
    "# Split the tuple column 'coords' into two separate columns 'latitude' and 'longitude'\n",
    "df[['latitude','longitude']] = df['coords'].str.split(',', expand=True)\n",
    "# set data type\n",
    "df = df.astype({'latitude':'float64', 'longitude':'float64'})\n",
    "\n",
    "# Drop the original 'coords' column\n",
    "df.drop('coords', axis=1, inplace=True)"
   ]
  },
  {
   "cell_type": "code",
   "execution_count": 47,
   "id": "ad40d0e9",
   "metadata": {},
   "outputs": [],
   "source": [
    "min_val = df['weight'].min()"
   ]
  },
  {
   "cell_type": "code",
   "execution_count": 48,
   "id": "83e1318a",
   "metadata": {},
   "outputs": [],
   "source": [
    "# max all weights positive\n",
    "df['weight'] = df['weight'] + (min_val*-1)"
   ]
  },
  {
   "cell_type": "code",
   "execution_count": 49,
   "id": "6e27f51a",
   "metadata": {},
   "outputs": [
    {
     "data": {
      "text/html": [
       "<div>\n",
       "<style scoped>\n",
       "    .dataframe tbody tr th:only-of-type {\n",
       "        vertical-align: middle;\n",
       "    }\n",
       "\n",
       "    .dataframe tbody tr th {\n",
       "        vertical-align: top;\n",
       "    }\n",
       "\n",
       "    .dataframe thead th {\n",
       "        text-align: right;\n",
       "    }\n",
       "</style>\n",
       "<table border=\"1\" class=\"dataframe\">\n",
       "  <thead>\n",
       "    <tr style=\"text-align: right;\">\n",
       "      <th></th>\n",
       "      <th>Unnamed: 0</th>\n",
       "      <th>weight</th>\n",
       "      <th>latitude</th>\n",
       "      <th>longitude</th>\n",
       "    </tr>\n",
       "  </thead>\n",
       "  <tbody>\n",
       "    <tr>\n",
       "      <th>0</th>\n",
       "      <td>0</td>\n",
       "      <td>679</td>\n",
       "      <td>44.291795</td>\n",
       "      <td>-93.304599</td>\n",
       "    </tr>\n",
       "    <tr>\n",
       "      <th>1</th>\n",
       "      <td>1</td>\n",
       "      <td>676</td>\n",
       "      <td>44.878718</td>\n",
       "      <td>-93.381030</td>\n",
       "    </tr>\n",
       "    <tr>\n",
       "      <th>2</th>\n",
       "      <td>2</td>\n",
       "      <td>620</td>\n",
       "      <td>45.117080</td>\n",
       "      <td>-93.216415</td>\n",
       "    </tr>\n",
       "    <tr>\n",
       "      <th>3</th>\n",
       "      <td>3</td>\n",
       "      <td>742</td>\n",
       "      <td>43.643533</td>\n",
       "      <td>-93.364793</td>\n",
       "    </tr>\n",
       "    <tr>\n",
       "      <th>4</th>\n",
       "      <td>4</td>\n",
       "      <td>753</td>\n",
       "      <td>44.068943</td>\n",
       "      <td>-92.476380</td>\n",
       "    </tr>\n",
       "  </tbody>\n",
       "</table>\n",
       "</div>"
      ],
      "text/plain": [
       "   Unnamed: 0  weight   latitude  longitude\n",
       "0           0     679  44.291795 -93.304599\n",
       "1           1     676  44.878718 -93.381030\n",
       "2           2     620  45.117080 -93.216415\n",
       "3           3     742  43.643533 -93.364793\n",
       "4           4     753  44.068943 -92.476380"
      ]
     },
     "execution_count": 49,
     "metadata": {},
     "output_type": "execute_result"
    }
   ],
   "source": [
    "df.head()"
   ]
  },
  {
   "cell_type": "code",
   "execution_count": 50,
   "id": "e45289d8",
   "metadata": {},
   "outputs": [],
   "source": [
    "# TODO code to fiddle with\n",
    "# https://geopandas.org/en/stable/gallery/plotting_with_geoplot.html"
   ]
  },
  {
   "cell_type": "code",
   "execution_count": 51,
   "id": "838fea32",
   "metadata": {},
   "outputs": [],
   "source": [
    "# read in county data\n",
    "import geopandas as gpd\n",
    "import matplotlib.pyplot as plt\n",
    "\n",
    "shp_df = gpd.read_file('data/original/Hennepin_County_Boundary/Hennepin_County_Boundary.shp')"
   ]
  },
  {
   "cell_type": "code",
   "execution_count": 52,
   "id": "60bfd3dd",
   "metadata": {},
   "outputs": [
    {
     "data": {
      "text/plain": [
       "<Projected CRS: EPSG:26915>\n",
       "Name: NAD83 / UTM zone 15N\n",
       "Axis Info [cartesian]:\n",
       "- E[east]: Easting (metre)\n",
       "- N[north]: Northing (metre)\n",
       "Area of Use:\n",
       "- name: North America - 96°W to 90°W and NAD83 by country\n",
       "- bounds: (-96.0, 25.61, -90.0, 84.0)\n",
       "Coordinate Operation:\n",
       "- name: UTM zone 15N\n",
       "- method: Transverse Mercator\n",
       "Datum: North American Datum 1983\n",
       "- Ellipsoid: GRS 1980\n",
       "- Prime Meridian: Greenwich"
      ]
     },
     "execution_count": 52,
     "metadata": {},
     "output_type": "execute_result"
    }
   ],
   "source": [
    "shp_df.crs"
   ]
  },
  {
   "cell_type": "code",
   "execution_count": 53,
   "id": "67952b65",
   "metadata": {},
   "outputs": [
    {
     "data": {
      "image/png": "[encoded data removed]",
      "text/plain": [
       "<Figure size 640x480 with 1 Axes>"
      ]
     },
     "metadata": {},
     "output_type": "display_data"
    }
   ],
   "source": [
    "# create 2km buffer around hennepin county\n",
    "# buff_henn = shp_df.buffer(2000)\n",
    "ax = shp_df.plot(color='red')\n",
    "\n",
    "shp_df.plot(ax=ax, color='green')\n",
    "plt.show()\n",
    "\n"
   ]
  },
  {
   "cell_type": "code",
   "execution_count": 54,
   "id": "5ba256a9",
   "metadata": {},
   "outputs": [],
   "source": [
    "# see which lat/longs are within\n",
    "from shapely.geometry import Point\n",
    "\n",
    "gdf = gpd.GeoDataFrame(df, geometry=gpd.points_from_xy(df['longitude'], df['latitude'], crs=\"EPSG:4326\"))\n",
    "gdf.to_crs(26915, inplace=True)"
   ]
  },
  {
   "cell_type": "code",
   "execution_count": 55,
   "id": "7258199c",
   "metadata": {},
   "outputs": [
    {
     "data": {
      "image/png": "[encoded data removed]",
      "text/plain": [
       "<Figure size 640x480 with 1 Axes>"
      ]
     },
     "metadata": {},
     "output_type": "display_data"
    }
   ],
   "source": [
    "tmp_df = shp_df\n",
    "\n",
    "# create 2km buffer around hennepin county\n",
    "tmp_df['geometry'] = shp_df.buffer(2000)\n",
    "ax = tmp_df['geometry'].plot(color='red')\n",
    "\n",
    "plt.show()\n"
   ]
  },
  {
   "cell_type": "code",
   "execution_count": 56,
   "id": "b882a3be",
   "metadata": {},
   "outputs": [],
   "source": [
    "filtered_df = gpd.sjoin(gdf, tmp_df)"
   ]
  },
  {
   "cell_type": "code",
   "execution_count": 57,
   "id": "5cecd273",
   "metadata": {},
   "outputs": [
    {
     "data": {
      "text/plain": [
       "(1844, 11)"
      ]
     },
     "execution_count": 57,
     "metadata": {},
     "output_type": "execute_result"
    }
   ],
   "source": [
    "filtered_df.shape"
   ]
  },
  {
   "cell_type": "code",
   "execution_count": 58,
   "id": "940eb02d",
   "metadata": {},
   "outputs": [
    {
     "data": {
      "text/html": [
       "<div>\n",
       "<style scoped>\n",
       "    .dataframe tbody tr th:only-of-type {\n",
       "        vertical-align: middle;\n",
       "    }\n",
       "\n",
       "    .dataframe tbody tr th {\n",
       "        vertical-align: top;\n",
       "    }\n",
       "\n",
       "    .dataframe thead th {\n",
       "        text-align: right;\n",
       "    }\n",
       "</style>\n",
       "<table border=\"1\" class=\"dataframe\">\n",
       "  <thead>\n",
       "    <tr style=\"text-align: right;\">\n",
       "      <th></th>\n",
       "      <th>Unnamed: 0</th>\n",
       "      <th>weight</th>\n",
       "      <th>latitude</th>\n",
       "      <th>longitude</th>\n",
       "      <th>geometry</th>\n",
       "      <th>index_right</th>\n",
       "      <th>OBJECTID</th>\n",
       "      <th>FEATURECOD</th>\n",
       "      <th>NAME_TXT</th>\n",
       "      <th>ShapeSTAre</th>\n",
       "      <th>ShapeSTLen</th>\n",
       "    </tr>\n",
       "  </thead>\n",
       "  <tbody>\n",
       "    <tr>\n",
       "      <th>1</th>\n",
       "      <td>1</td>\n",
       "      <td>676</td>\n",
       "      <td>44.878718</td>\n",
       "      <td>-93.381030</td>\n",
       "      <td>POINT (469905.719 4969548.271)</td>\n",
       "      <td>0</td>\n",
       "      <td>1</td>\n",
       "      <td>NaN</td>\n",
       "      <td>HENNEPIN COUNTY</td>\n",
       "      <td>1.569960e+09</td>\n",
       "      <td>190077.891439</td>\n",
       "    </tr>\n",
       "    <tr>\n",
       "      <th>5</th>\n",
       "      <td>5</td>\n",
       "      <td>630</td>\n",
       "      <td>44.903262</td>\n",
       "      <td>-93.482438</td>\n",
       "      <td>POINT (461912.599 4972317.287)</td>\n",
       "      <td>0</td>\n",
       "      <td>1</td>\n",
       "      <td>NaN</td>\n",
       "      <td>HENNEPIN COUNTY</td>\n",
       "      <td>1.569960e+09</td>\n",
       "      <td>190077.891439</td>\n",
       "    </tr>\n",
       "    <tr>\n",
       "      <th>6</th>\n",
       "      <td>6</td>\n",
       "      <td>652</td>\n",
       "      <td>44.903262</td>\n",
       "      <td>-93.482438</td>\n",
       "      <td>POINT (461912.599 4972317.287)</td>\n",
       "      <td>0</td>\n",
       "      <td>1</td>\n",
       "      <td>NaN</td>\n",
       "      <td>HENNEPIN COUNTY</td>\n",
       "      <td>1.569960e+09</td>\n",
       "      <td>190077.891439</td>\n",
       "    </tr>\n",
       "    <tr>\n",
       "      <th>7</th>\n",
       "      <td>7</td>\n",
       "      <td>674</td>\n",
       "      <td>44.964563</td>\n",
       "      <td>-93.246122</td>\n",
       "      <td>POINT (480589.852 4979043.272)</td>\n",
       "      <td>0</td>\n",
       "      <td>1</td>\n",
       "      <td>NaN</td>\n",
       "      <td>HENNEPIN COUNTY</td>\n",
       "      <td>1.569960e+09</td>\n",
       "      <td>190077.891439</td>\n",
       "    </tr>\n",
       "    <tr>\n",
       "      <th>19</th>\n",
       "      <td>19</td>\n",
       "      <td>671</td>\n",
       "      <td>44.945341</td>\n",
       "      <td>-93.210965</td>\n",
       "      <td>POINT (483356.898 4976900.153)</td>\n",
       "      <td>0</td>\n",
       "      <td>1</td>\n",
       "      <td>NaN</td>\n",
       "      <td>HENNEPIN COUNTY</td>\n",
       "      <td>1.569960e+09</td>\n",
       "      <td>190077.891439</td>\n",
       "    </tr>\n",
       "  </tbody>\n",
       "</table>\n",
       "</div>"
      ],
      "text/plain": [
       "    Unnamed: 0  weight   latitude  longitude                        geometry  \\\n",
       "1            1     676  44.878718 -93.381030  POINT (469905.719 4969548.271)   \n",
       "5            5     630  44.903262 -93.482438  POINT (461912.599 4972317.287)   \n",
       "6            6     652  44.903262 -93.482438  POINT (461912.599 4972317.287)   \n",
       "7            7     674  44.964563 -93.246122  POINT (480589.852 4979043.272)   \n",
       "19          19     671  44.945341 -93.210965  POINT (483356.898 4976900.153)   \n",
       "\n",
       "    index_right  OBJECTID  FEATURECOD         NAME_TXT    ShapeSTAre  \\\n",
       "1             0         1         NaN  HENNEPIN COUNTY  1.569960e+09   \n",
       "5             0         1         NaN  HENNEPIN COUNTY  1.569960e+09   \n",
       "6             0         1         NaN  HENNEPIN COUNTY  1.569960e+09   \n",
       "7             0         1         NaN  HENNEPIN COUNTY  1.569960e+09   \n",
       "19            0         1         NaN  HENNEPIN COUNTY  1.569960e+09   \n",
       "\n",
       "       ShapeSTLen  \n",
       "1   190077.891439  \n",
       "5   190077.891439  \n",
       "6   190077.891439  \n",
       "7   190077.891439  \n",
       "19  190077.891439  "
      ]
     },
     "execution_count": 58,
     "metadata": {},
     "output_type": "execute_result"
    }
   ],
   "source": [
    "filtered_df.head()"
   ]
  },
  {
   "cell_type": "code",
   "execution_count": 28,
   "id": "5778716c",
   "metadata": {},
   "outputs": [
    {
     "ename": "ModuleNotFoundError",
     "evalue": "No module named 'geoplot'",
     "output_type": "error",
     "traceback": [
      "\u001b[1;31m---------------------------------------------------------------------------\u001b[0m",
      "\u001b[1;31mModuleNotFoundError\u001b[0m                       Traceback (most recent call last)",
      "Cell \u001b[1;32mIn[28], line 1\u001b[0m\n\u001b[1;32m----> 1\u001b[0m \u001b[38;5;28;01mimport\u001b[39;00m \u001b[38;5;21;01mgeoplot\u001b[39;00m\n\u001b[0;32m      3\u001b[0m ax \u001b[38;5;241m=\u001b[39m geoplot\u001b[38;5;241m.\u001b[39mkdeplot(\n\u001b[0;32m      4\u001b[0m     filtered_df, clip\u001b[38;5;241m=\u001b[39mfiltered_df\u001b[38;5;241m.\u001b[39mgeometry,\n\u001b[0;32m      5\u001b[0m     fill\u001b[38;5;241m=\u001b[39m\u001b[38;5;28;01mTrue\u001b[39;00m, cmap\u001b[38;5;241m=\u001b[39m\u001b[38;5;124m'\u001b[39m\u001b[38;5;124mReds\u001b[39m\u001b[38;5;124m'\u001b[39m,\n\u001b[0;32m      6\u001b[0m     projection\u001b[38;5;241m=\u001b[39mgeoplot\u001b[38;5;241m.\u001b[39mcrs\u001b[38;5;241m.\u001b[39mAlbersEqualArea())\n\u001b[0;32m      7\u001b[0m geoplot\u001b[38;5;241m.\u001b[39mpolyplot(boroughs, ax\u001b[38;5;241m=\u001b[39max, zorder\u001b[38;5;241m=\u001b[39m\u001b[38;5;241m1\u001b[39m)\n",
      "\u001b[1;31mModuleNotFoundError\u001b[0m: No module named 'geoplot'"
     ]
    }
   ],
   "source": [
    "import geoplot\n",
    "\n",
    "ax = geoplot.kdeplot(\n",
    "    filtered_df, clip=filtered_df.geometry,\n",
    "    fill=True, cmap='Reds',\n",
    "    projection=geoplot.crs.AlbersEqualArea(), weights=filtered_df.weight)\n",
    "geoplot.polyplot(filtered_df, ax=ax, zorder=1)"
   ]
  },
  {
   "cell_type": "code",
   "execution_count": null,
   "id": "6469baf8",
   "metadata": {},
   "outputs": [],
   "source": []
  }
 ],
 "metadata": {
  "kernelspec": {
   "display_name": "Python 3 (ipykernel)",
   "language": "python",
   "name": "python3"
  },
  "language_info": {
   "codemirror_mode": {
    "name": "ipython",
    "version": 3
   },
   "file_extension": ".py",
   "mimetype": "text/x-python",
   "name": "python",
   "nbconvert_exporter": "python",
   "pygments_lexer": "ipython3",
   "version": "3.8.16"
  }
 },
 "nbformat": 4,
 "nbformat_minor": 5
}
