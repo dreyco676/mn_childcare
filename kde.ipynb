{
 "cells": [
  {
   "cell_type": "code",
   "execution_count": 18,
   "id": "4d2b864e",
   "metadata": {},
   "outputs": [],
   "source": [
    "import pandas as pd\n",
    "import seaborn as sns"
   ]
  },
  {
   "cell_type": "code",
   "execution_count": 35,
   "id": "553b8645",
   "metadata": {},
   "outputs": [],
   "source": [
    "df = pd.read_csv('data/modified/data_to_map.csv')"
   ]
  },
  {
   "cell_type": "code",
   "execution_count": 36,
   "id": "c8fde230",
   "metadata": {},
   "outputs": [
    {
     "data": {
      "text/html": [
       "<div>\n",
       "<style scoped>\n",
       "    .dataframe tbody tr th:only-of-type {\n",
       "        vertical-align: middle;\n",
       "    }\n",
       "\n",
       "    .dataframe tbody tr th {\n",
       "        vertical-align: top;\n",
       "    }\n",
       "\n",
       "    .dataframe thead th {\n",
       "        text-align: right;\n",
       "    }\n",
       "</style>\n",
       "<table border=\"1\" class=\"dataframe\">\n",
       "  <thead>\n",
       "    <tr style=\"text-align: right;\">\n",
       "      <th></th>\n",
       "      <th>Unnamed: 0</th>\n",
       "      <th>coords</th>\n",
       "      <th>weight</th>\n",
       "    </tr>\n",
       "  </thead>\n",
       "  <tbody>\n",
       "    <tr>\n",
       "      <th>0</th>\n",
       "      <td>0</td>\n",
       "      <td>(44.2917947, -93.3045992)</td>\n",
       "      <td>94</td>\n",
       "    </tr>\n",
       "    <tr>\n",
       "      <th>1</th>\n",
       "      <td>1</td>\n",
       "      <td>(44.8787181, -93.38103)</td>\n",
       "      <td>91</td>\n",
       "    </tr>\n",
       "    <tr>\n",
       "      <th>2</th>\n",
       "      <td>2</td>\n",
       "      <td>(45.1170803, -93.2164146)</td>\n",
       "      <td>35</td>\n",
       "    </tr>\n",
       "    <tr>\n",
       "      <th>3</th>\n",
       "      <td>3</td>\n",
       "      <td>(43.6435327, -93.3647928)</td>\n",
       "      <td>157</td>\n",
       "    </tr>\n",
       "    <tr>\n",
       "      <th>4</th>\n",
       "      <td>4</td>\n",
       "      <td>(44.0689429, -92.4763802)</td>\n",
       "      <td>168</td>\n",
       "    </tr>\n",
       "  </tbody>\n",
       "</table>\n",
       "</div>"
      ],
      "text/plain": [
       "   Unnamed: 0                     coords  weight\n",
       "0           0  (44.2917947, -93.3045992)      94\n",
       "1           1    (44.8787181, -93.38103)      91\n",
       "2           2  (45.1170803, -93.2164146)      35\n",
       "3           3  (43.6435327, -93.3647928)     157\n",
       "4           4  (44.0689429, -92.4763802)     168"
      ]
     },
     "execution_count": 36,
     "metadata": {},
     "output_type": "execute_result"
    }
   ],
   "source": [
    "df.head()"
   ]
  },
  {
   "cell_type": "code",
   "execution_count": 37,
   "id": "f2e1d37e",
   "metadata": {},
   "outputs": [
    {
     "name": "stderr",
     "output_type": "stream",
     "text": [
      "C:\\Users\\johnd_h4rxswp\\AppData\\Local\\Temp\\ipykernel_13008\\344440211.py:2: FutureWarning: The default value of regex will change from True to False in a future version. In addition, single character regular expressions will *not* be treated as literal strings when regex=True.\n",
      "  df['coords'] = df['coords'].str.replace('(', '').str.replace(')', '')\n"
     ]
    }
   ],
   "source": [
    "# remove junk from coords\n",
    "df['coords'] = df['coords'].str.replace('(', '').str.replace(')', '')\n",
    "\n",
    "# Split the tuple column 'coords' into two separate columns 'latitude' and 'longitude'\n",
    "df[['latitude','longitude']] = df['coords'].str.split(',', expand=True)\n",
    "# set data type\n",
    "df = df.astype({'latitude':'float64', 'longitude':'float64'})\n",
    "\n",
    "# Drop the original 'coords' column\n",
    "df.drop('coords', axis=1, inplace=True)"
   ]
  },
  {
   "cell_type": "code",
   "execution_count": 38,
   "id": "ad40d0e9",
   "metadata": {},
   "outputs": [],
   "source": [
    "min_val = df['weight'].min()"
   ]
  },
  {
   "cell_type": "code",
   "execution_count": 39,
   "id": "83e1318a",
   "metadata": {},
   "outputs": [],
   "source": [
    "# max all weights positive\n",
    "df['weight'] = df['weight'] + min_val"
   ]
  },
  {
   "cell_type": "code",
   "execution_count": null,
   "id": "e45289d8",
   "metadata": {},
   "outputs": [],
   "source": [
    "# TODO code to fiddle with\n",
    "# https://geopandas.org/en/stable/gallery/plotting_with_geoplot.html\n",
    "f, ax = plt.subplots(1, figsize=(9, 9))\n",
    "# plot coastlines with basemap\n",
    "m = Basemap(projection='cyl', resolution='c',\n",
    "            llcrnrlat=bbox[0],urcrnrlat=bbox[1],\n",
    "            llcrnrlon=bbox[2],urcrnrlon=bbox[3])\n",
    "m.drawmapboundary(fill_color='#DDEEFF')\n",
    "m.fillcontinents(color='#FFEEDD')\n",
    "m.drawcoastlines(color='gray', zorder=2)\n",
    "m.drawcountries(color='gray', zorder=2)"
   ]
  },
  {
   "cell_type": "code",
   "execution_count": 19,
   "id": "d4af8bc7",
   "metadata": {},
   "outputs": [
    {
     "data": {
      "text/plain": [
       "<Axes: xlabel='latitude', ylabel='longitude'>"
      ]
     },
     "execution_count": 19,
     "metadata": {},
     "output_type": "execute_result"
    },
    {
     "data": {
      "image/png": "[encoded data removed]",
      "text/plain": [
       "<Figure size 640x480 with 1 Axes>"
      ]
     },
     "metadata": {},
     "output_type": "display_data"
    }
   ],
   "source": [
    "# Create a kernel density plot with latitude and longitude as the x and y axes, respectively\n",
    "# The weights column is used to weight the density estimate\n",
    "sns.kdeplot(data=df, x='latitude', y='longitude', weights='weight', fill=True, cmap='Purples')"
   ]
  },
  {
   "cell_type": "code",
   "execution_count": 75,
   "id": "42279a76",
   "metadata": {},
   "outputs": [],
   "source": [
    "# read in county data\n",
    "import geopandas as gpd\n",
    "import matplotlib.pyplot as plt\n",
    "\n",
    "shp_df = gpd.read_file('data/original/shp_bdry_counties_in_minnesota/mn_county_boundaries.shp')"
   ]
  },
  {
   "cell_type": "code",
   "execution_count": 76,
   "id": "9a25de10",
   "metadata": {},
   "outputs": [],
   "source": [
    " hennepin = shp_df[shp_df['CTY_NAME']=='Hennepin']"
   ]
  },
  {
   "cell_type": "code",
   "execution_count": 77,
   "id": "9a5dff1b",
   "metadata": {},
   "outputs": [
    {
     "data": {
      "image/png": "[encoded data removed]",
      "text/plain": [
       "<Figure size 640x480 with 1 Axes>"
      ]
     },
     "metadata": {},
     "output_type": "display_data"
    }
   ],
   "source": [
    "# create 2km buffer around hennepin county\n",
    "buffered_hennepin = hennepin.buffer(2000)\n",
    "ax = hennepin.plot(color='red')\n",
    "\n",
    "buffered_hennepin.plot(ax=ax, color='green')\n",
    "plt.show()\n",
    "\n"
   ]
  },
  {
   "cell_type": "code",
   "execution_count": 79,
   "id": "5ba256a9",
   "metadata": {},
   "outputs": [],
   "source": [
    "# TODO see which lat/longs are within\n",
    "from shapely.geometry import Point\n",
    "# df['geometry'] = [Point(xy) for xy in zip(df['longitude'], df['latitude'])] \n",
    "\n",
    "# del df['Unnamed: 0']\n",
    "# df.head()\n",
    "\n",
    "gdf = gpd.GeoDataFrame(df, geometry=gpd.points_from_xy(df['longitude'], df['latitude']))\n",
    "\n",
    "\n",
    "gdf = gdf.set_crs('EPSG:4326')\n",
    "gdf = gdf.to_crs('EPSG:26915')"
   ]
  },
  {
   "cell_type": "code",
   "execution_count": 80,
   "id": "b6f3b383",
   "metadata": {},
   "outputs": [
    {
     "name": "stderr",
     "output_type": "stream",
     "text": [
      "C:\\Users\\johnd_h4rxswp\\anaconda3\\lib\\site-packages\\geopandas\\base.py:31: UserWarning: The indices of the two GeoSeries are different.\n",
      "  warn(\"The indices of the two GeoSeries are different.\")\n"
     ]
    }
   ],
   "source": [
    "gdf['within_2km_hennepin'] = gdf.within(buffered_hennepin)"
   ]
  },
  {
   "cell_type": "code",
   "execution_count": 81,
   "id": "eccc98db",
   "metadata": {},
   "outputs": [
    {
     "data": {
      "text/html": [
       "<div>\n",
       "<style scoped>\n",
       "    .dataframe tbody tr th:only-of-type {\n",
       "        vertical-align: middle;\n",
       "    }\n",
       "\n",
       "    .dataframe tbody tr th {\n",
       "        vertical-align: top;\n",
       "    }\n",
       "\n",
       "    .dataframe thead th {\n",
       "        text-align: right;\n",
       "    }\n",
       "</style>\n",
       "<table border=\"1\" class=\"dataframe\">\n",
       "  <thead>\n",
       "    <tr style=\"text-align: right;\">\n",
       "      <th></th>\n",
       "      <th>Unnamed: 0</th>\n",
       "      <th>weight</th>\n",
       "      <th>latitude</th>\n",
       "      <th>longitude</th>\n",
       "      <th>geometry</th>\n",
       "      <th>within_2km_hennepin</th>\n",
       "    </tr>\n",
       "  </thead>\n",
       "  <tbody>\n",
       "    <tr>\n",
       "      <th>49</th>\n",
       "      <td>49</td>\n",
       "      <td>-475</td>\n",
       "      <td>44.8662</td>\n",
       "      <td>-93.442159</td>\n",
       "      <td>POINT (465070.085 4968182.184)</td>\n",
       "      <td>True</td>\n",
       "    </tr>\n",
       "  </tbody>\n",
       "</table>\n",
       "</div>"
      ],
      "text/plain": [
       "    Unnamed: 0  weight  latitude  longitude                        geometry  \\\n",
       "49          49    -475   44.8662 -93.442159  POINT (465070.085 4968182.184)   \n",
       "\n",
       "    within_2km_hennepin  \n",
       "49                 True  "
      ]
     },
     "execution_count": 81,
     "metadata": {},
     "output_type": "execute_result"
    }
   ],
   "source": [
    "filtered_df = gdf[gdf['within_2km_hennepin'] == True]\n",
    "filtered_df.head()"
   ]
  },
  {
   "cell_type": "code",
   "execution_count": null,
   "id": "9e943949",
   "metadata": {},
   "outputs": [],
   "source": []
  }
 ],
 "metadata": {
  "kernelspec": {
   "display_name": "Python 3 (ipykernel)",
   "language": "python",
   "name": "python3"
  },
  "language_info": {
   "codemirror_mode": {
    "name": "ipython",
    "version": 3
   },
   "file_extension": ".py",
   "mimetype": "text/x-python",
   "name": "python",
   "nbconvert_exporter": "python",
   "pygments_lexer": "ipython3",
   "version": "3.8.16"
  }
 },
 "nbformat": 4,
 "nbformat_minor": 5
}
